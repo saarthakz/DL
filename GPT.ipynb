{
 "cells": [
  {
   "cell_type": "code",
   "execution_count": 1,
   "metadata": {},
   "outputs": [],
   "source": [
    "import torch\n",
    "import torch.nn as nn\n",
    "from torch.nn import functional\n",
    "from torch.utils.data import Dataset as torchDataset, DataLoader\n",
    "from tqdm.auto import tqdm"
   ]
  },
  {
   "cell_type": "code",
   "execution_count": 2,
   "metadata": {},
   "outputs": [],
   "source": [
    "# Tokenizer functions\n",
    "class ByteTokenizer:\n",
    "  def __init__(self, chars: 'list[str]') -> None:\n",
    "    # Map creation\n",
    "    self.stoi = {}\n",
    "    self.itos = {}\n",
    "    for idx, char in enumerate(chars):\n",
    "      self.stoi[char] = idx\n",
    "      self.itos[idx] = char\n",
    "    pass\n",
    "  \n",
    "  def encode(self, text: str):\n",
    "    output = list(range(len(text)))\n",
    "    for idx, char in enumerate(text):\n",
    "      output[idx] = self.stoi[char]\n",
    "\n",
    "    return output\n",
    "\n",
    "  def decode(self, arr: list[int]):\n",
    "    output = list(range(len(arr)))\n",
    "    for idx in range(len(arr)):\n",
    "      output[idx] = self.itos[arr[idx]]\n",
    "\n",
    "    return \"\".join(output)"
   ]
  },
  {
   "cell_type": "code",
   "execution_count": 4,
   "metadata": {},
   "outputs": [],
   "source": [
    "# Multiple Self Attention Heads in Parallel\n",
    "class MultiHeadAttention(nn.Module):\n",
    "    \n",
    "\n",
    "    def __init__(self, num_heads: int, head_size: int):\n",
    "        super().__init__()\n",
    "\n",
    "        # Key, Query and Value weights are (D, H)\n",
    "        self.num_heads = num_heads\n",
    "        self.head_size = head_size\n",
    "        self.emb_dim = num_heads * head_size # Dimensionality \n",
    "        self.query = nn.Linear(self.emb_dim, self.emb_dim, bias=False)\n",
    "        self.value = nn.Linear(self.emb_dim, self.emb_dim, bias=False)\n",
    "        self.key =   nn.Linear(self.emb_dim, self.emb_dim, bias=False)\n",
    "        self.value_proj = nn.Linear(self.emb_dim, self.emb_dim) # Additional layer for inter head communication\n",
    "\n",
    "    def split(self, x:torch.Tensor):\n",
    "        B, C, D = x.shape\n",
    "        x = x.view(B, C, self.num_heads, self.head_size)\n",
    "        return x.permute(0, 2, 1, 3) # B, N, C, H\n",
    "\n",
    "    def forward(self, query_input: torch.Tensor, key_input: torch.Tensor, value_input: torch.Tensor,mask = None):\n",
    "\n",
    "        B, C, D = value_input.shape\n",
    "\n",
    "        if mask is None:\n",
    "            # Default mask is the encoder mask\n",
    "            mask = torch.zeros(size = (C, C)).bool().to(device=value_input.device)\n",
    "\n",
    "        # B, N, C, H in size\n",
    "        query= self.split(self.query(query_input))\n",
    "        key = self.split(self.key(key_input))\n",
    "        value = self.split(self.value(value_input))\n",
    "\n",
    "        wei = query @ key.transpose(-2, -1) * self.head_size ** -0.5 # (B, N, C, H) @ (B, N, H, C) => (B, N, C, C)\n",
    "\n",
    "        wei = wei.masked_fill(mask, float('-inf')) # (B, N, C, C)\n",
    "        wei = functional.softmax(wei, dim=-1) # (B, N, C, C)\n",
    "        values = wei @ value # (B, N, C, C) @ (B, N, C, H) -> (B, N, C, H)\n",
    "        values = values.permute(0, 2, 1, 3) # (B, C, N, H)\n",
    "        values = values.reshape(B, C, self.emb_dim)\n",
    "        values = self.value_proj(values)\n",
    "\n",
    "        return values, wei\n"
   ]
  },
  {
   "cell_type": "code",
   "execution_count": 5,
   "metadata": {},
   "outputs": [],
   "source": [
    "# A Simple Linear Layer with ReLU for adding computational abilities\n",
    "class FeedFoward(nn.Module):\n",
    "\n",
    "    def __init__(self, emb_dims):\n",
    "        super().__init__()\n",
    "        self.net = nn.Sequential( \n",
    "            nn.Linear(emb_dims, 4 * emb_dims), \n",
    "            nn.ReLU(),\n",
    "            nn.Linear(4 * emb_dims, emb_dims),\n",
    "        )\n",
    "\n",
    "    def forward(self, x):\n",
    "        return self.net(x)\n"
   ]
  },
  {
   "cell_type": "code",
   "execution_count": 6,
   "metadata": {},
   "outputs": [],
   "source": [
    "# Transformer Block: Communication followed by Computation \n",
    "class Block(nn.Module):\n",
    "\n",
    "    def __init__(self, emb_dims, num_heads):\n",
    "        # emb_dims: embedding dimension, num_heads: the number of heads we'd like\n",
    "        super().__init__()\n",
    "\n",
    "        # Divide the embedding dimensions by the number of heads to get the head size\n",
    "        head_size = emb_dims // num_heads\n",
    "\n",
    "        # Communication\n",
    "        self.self_att = MultiHeadAttention(num_heads, head_size)\n",
    "\n",
    "        # Computation\n",
    "        self.feed_fwd = FeedFoward(emb_dims)\n",
    "\n",
    "        # Adding Layer Normalization\n",
    "        self.ln1 = nn.LayerNorm(emb_dims)\n",
    "        self.ln2 = nn.LayerNorm(emb_dims)\n",
    "\n",
    "\n",
    "    def forward(self, x, mask: torch.Tensor):\n",
    "        # Residual connections allow the network to learn the simplest possible function. No matter how many complex layer we start by learning a linear function and the complex layers add in non linearity as needed to learn true function.\n",
    "        val, attention = self.self_att.forward(self.ln1(x), self.ln1(x), self.ln1(x), mask)\n",
    "        x = x + val\n",
    "        x = x + self.feed_fwd.forward(self.ln2(x))\n",
    "        return x\n"
   ]
  },
  {
   "cell_type": "code",
   "execution_count": 7,
   "metadata": {},
   "outputs": [],
   "source": [
    "class Transformer(nn.Module):\n",
    "\n",
    "    def __init__(self, context, emb_dims, vocab_size, form = \"decoder\"):\n",
    "        super().__init__()\n",
    "       \n",
    "       \n",
    "        if form == 'decoder':\n",
    "            self.mask = torch.triu(torch.full(size = (context,context), fill_value= -torch.inf), diagonal=1).bool().to(device=device)\n",
    "        else:\n",
    "            self.mask = torch.zeros(size = (context, context)).bool().to(device=device)\n",
    "        self.context = context\n",
    "        self.emb_dims = emb_dims\n",
    "        self.vocab_size = vocab_size\n",
    "\n",
    "        # Token embedding table is used for token identification encoding\n",
    "        # Position embedding table is used for token position (in reference to the current context) encoding\n",
    "        self.token_embedding_table = nn.Embedding(vocab_size, emb_dims)\n",
    "        self.position_embedding_table = nn.Embedding(context, emb_dims)\n",
    "\n",
    "        self.blocks = nn.ModuleList([\n",
    "            Block(emb_dims=emb_dims, num_heads=4),\n",
    "            Block(emb_dims=emb_dims, num_heads=4),\n",
    "            Block(emb_dims=emb_dims, num_heads=4),\n",
    "        ])\n",
    "\n",
    "        # Final layer norm\n",
    "        self.ln_f = nn.LayerNorm(emb_dims) \n",
    "        \n",
    "        # Language model head used for output\n",
    "        self.lm_head = nn.Linear(emb_dims, vocab_size)\n",
    "\n",
    "    def forward(self, x, targets=None):\n",
    "        B, C = x.shape\n",
    "\n",
    "        # x and targets are both (B,C) tensor of integers\n",
    "        tok_emb = self.token_embedding_table(x) # (B,C,D)\n",
    "\n",
    "        # Getting the position embedding for all the positions, starting from 0 -> context - 1\n",
    "        pos_emb = self.position_embedding_table(torch.arange(C, device=\"cuda\")) # (C,D)\n",
    "        x = tok_emb + pos_emb\n",
    "        for block in self.blocks:\n",
    "            x = block(x, self.mask)\n",
    "        x = self.ln_f(x) \n",
    "        logits = self.lm_head(x)\n",
    "\n",
    "        if targets is None:\n",
    "            loss = None\n",
    "        else:\n",
    "            B, C, D = logits.shape\n",
    "            logits = logits.view(B*C, D)\n",
    "            targets = targets.view(B*C)\n",
    "            loss = functional.cross_entropy(logits, targets)\n",
    "\n",
    "        return logits, loss\n",
    "\n",
    "    def generate(self, idx, max_new_tokens):\n",
    "        # idx is (B, C) array of indices in the current context\n",
    "        for _ in range(max_new_tokens):\n",
    "\n",
    "            # crop idx to the last context \n",
    "            idx_cond = idx[:, -self.context:]\n",
    "\n",
    "            # Get the predictions\n",
    "            logits, loss = self.forward(x=idx_cond)\n",
    "\n",
    "            # Focus only on the last step which contains the output considering the entire context window\n",
    "            # logits are (batch_size, context = full context considered time step, dimensionality) which is essentially the output vector for each batch\n",
    "            logits = logits[:, -1, :] \n",
    "\n",
    "            # Apply softmax to get probabilities\n",
    "            probs = functional.softmax(logits, dim=1)\n",
    "\n",
    "            # Sample from the distribution\n",
    "            idx_next = torch.multinomial(probs, num_samples=1) # (B, 1)\n",
    "\n",
    "            # Appended along the context_window hence the context keeps building up\n",
    "            idx = torch.cat((idx, idx_next), dim=1) # (batch_size, context_window + 1)\n",
    "        return idx\n"
   ]
  },
  {
   "cell_type": "code",
   "execution_count": 8,
   "metadata": {},
   "outputs": [
    {
     "name": "stdout",
     "output_type": "stream",
     "text": [
      "True NVIDIA GeForce RTX 3060\n"
     ]
    }
   ],
   "source": [
    "cuda = torch.cuda.is_available()\n",
    "print(cuda, torch.cuda.get_device_name())"
   ]
  },
  {
   "cell_type": "code",
   "execution_count": 9,
   "metadata": {},
   "outputs": [],
   "source": [
    "batch_size = 32\n",
    "context = 256\n",
    "emb_dims = 128\n",
    "print_interval = 500\n",
    "device = 'cuda' if cuda else 'cpu'\n",
    "epochs = 10"
   ]
  },
  {
   "cell_type": "code",
   "execution_count": 10,
   "metadata": {},
   "outputs": [],
   "source": [
    "# Reading the file\n",
    "file = open('input.txt', 'r', encoding='utf-8')\n",
    "text = file.read()"
   ]
  },
  {
   "cell_type": "code",
   "execution_count": 11,
   "metadata": {},
   "outputs": [],
   "source": [
    "# here are all the unique characters that occur in this text\n",
    "chars = sorted(list(set(text)))\n",
    "vocab_size = len(chars)"
   ]
  },
  {
   "cell_type": "code",
   "execution_count": 12,
   "metadata": {},
   "outputs": [],
   "source": [
    "tokenizer = ByteTokenizer(chars)"
   ]
  },
  {
   "cell_type": "code",
   "execution_count": 13,
   "metadata": {},
   "outputs": [],
   "source": [
    "class Dataset(torchDataset):\n",
    "    def __init__(self, text: str) -> None:\n",
    "      self.data = tokenizer.encode(text)\n",
    "\n",
    "    def __getitem__(self, index):\n",
    "      x = self.data[index : index + context]\n",
    "      y = self.data[index + 1 : index + context + 1]\n",
    "\n",
    "      return torch.tensor(x).to(device), torch.tensor(y).to(device)\n",
    "    def __len__(self):\n",
    "      return len(self.data) - context - 1"
   ]
  },
  {
   "cell_type": "code",
   "execution_count": 14,
   "metadata": {},
   "outputs": [],
   "source": [
    "dataset = Dataset(text=text)"
   ]
  },
  {
   "cell_type": "code",
   "execution_count": 15,
   "metadata": {},
   "outputs": [],
   "source": [
    "dataloader = DataLoader(dataset=dataset, batch_size=batch_size, shuffle=True)"
   ]
  },
  {
   "cell_type": "code",
   "execution_count": 16,
   "metadata": {},
   "outputs": [
    {
     "name": "stdout",
     "output_type": "stream",
     "text": [
      "0.643393 M parameters\n"
     ]
    }
   ],
   "source": [
    "model = Transformer(context=context, emb_dims=emb_dims, vocab_size=vocab_size).to(device=device)\n",
    "\n",
    "# Print the number of parameters in the model\n",
    "print(sum(param.numel() for param in model.parameters()) / 1e6, 'M parameters')\n",
    "\n",
    "# Create a PyTorch optimizer\n",
    "optimizer = torch.optim.AdamW(model.parameters(), lr=1e-3)"
   ]
  },
  {
   "cell_type": "code",
   "execution_count": 17,
   "metadata": {},
   "outputs": [
    {
     "data": {
      "application/vnd.jupyter.widget-view+json": {
       "model_id": "4cb59d05e03b495b8304296006bf2c13",
       "version_major": 2,
       "version_minor": 0
      },
      "text/plain": [
       "  0%|          | 0/34849 [00:00<?, ?it/s]"
      ]
     },
     "metadata": {},
     "output_type": "display_data"
    },
    {
     "name": "stdout",
     "output_type": "stream",
     "text": [
      "step 0: train loss 0.0\n",
      "step 500: train loss 2.4424705053279974\n",
      "step 1000: train loss 2.1932401951257283\n",
      "step 1500: train loss 2.0210089710535484\n",
      "step 2000: train loss 1.9033647016666342\n",
      "step 2500: train loss 1.8184292354568488\n",
      "step 3000: train loss 1.7535482074609798\n",
      "step 3500: train loss 1.7020116354934967\n",
      "step 4000: train loss 1.6597797746391363\n",
      "step 4500: train loss 1.6243261875668729\n",
      "step 5000: train loss 1.5941792098886132\n",
      "step 5500: train loss 1.567781364824572\n",
      "step 6000: train loss 1.544629610989257\n",
      "step 6500: train loss 1.5240738203187774\n",
      "step 7000: train loss 1.5053977677352495\n",
      "step 7500: train loss 1.4886098256382587\n",
      "step 8000: train loss 1.4732396359921038\n",
      "step 8500: train loss 1.4592038654969757\n",
      "step 9000: train loss 1.4460715143141012\n",
      "step 9500: train loss 1.434112847635538\n",
      "step 10000: train loss 1.4229148469821369\n",
      "step 10500: train loss 1.4124169858929407\n",
      "step 11000: train loss 1.4026271824229468\n",
      "step 11500: train loss 1.3933990140571126\n",
      "step 12000: train loss 1.3845663479532504\n",
      "step 12500: train loss 1.3761725571906793\n",
      "step 13000: train loss 1.3682300969826497\n",
      "step 13500: train loss 1.3606361070479933\n",
      "step 14000: train loss 1.3534260463496632\n",
      "step 14500: train loss 1.3465275151936253\n",
      "step 15000: train loss 1.3398835138196699\n",
      "step 15500: train loss 1.3334964927369783\n",
      "step 16000: train loss 1.3273884994701612\n",
      "step 16500: train loss 1.3215329429177283\n"
     ]
    },
    {
     "ename": "KeyboardInterrupt",
     "evalue": "",
     "output_type": "error",
     "traceback": [
      "\u001b[0;31m---------------------------------------------------------------------------\u001b[0m",
      "\u001b[0;31mKeyboardInterrupt\u001b[0m                         Traceback (most recent call last)",
      "Cell \u001b[0;32mIn[17], line 15\u001b[0m\n\u001b[1;32m     13\u001b[0m \u001b[39m# evaluate the loss\u001b[39;00m\n\u001b[1;32m     14\u001b[0m logits, loss \u001b[39m=\u001b[39m model\u001b[39m.\u001b[39mforward(x \u001b[39m=\u001b[39m x, targets \u001b[39m=\u001b[39my)\n\u001b[0;32m---> 15\u001b[0m total_loss \u001b[39m+\u001b[39m\u001b[39m=\u001b[39m loss\u001b[39m.\u001b[39;49mitem()\n\u001b[1;32m     16\u001b[0m optimizer\u001b[39m.\u001b[39mzero_grad(set_to_none\u001b[39m=\u001b[39m\u001b[39mTrue\u001b[39;00m)\n\u001b[1;32m     17\u001b[0m loss\u001b[39m.\u001b[39mbackward()\n",
      "\u001b[0;31mKeyboardInterrupt\u001b[0m: "
     ]
    }
   ],
   "source": [
    "# Training loop\n",
    "\n",
    "total_loss = 0\n",
    "progress_bar = tqdm(range(len(dataloader)))\n",
    "\n",
    "for epoch in range(epochs):\n",
    "    for step, batch in enumerate(dataloader):\n",
    "        # every once in a while evaluate the loss on train and val sets\n",
    "        if step % print_interval == 0 :\n",
    "            print(f\"step {step}: train loss {total_loss / (step + 1)}\")\n",
    "\n",
    "        x, y = batch\n",
    "        # evaluate the loss\n",
    "        logits, loss = model.forward(x = x, targets =y)\n",
    "        total_loss += loss.item()\n",
    "        optimizer.zero_grad(set_to_none=True)\n",
    "        loss.backward()\n",
    "        optimizer.step()\n",
    "        progress_bar.update(1)"
   ]
  },
  {
   "cell_type": "code",
   "execution_count": null,
   "metadata": {},
   "outputs": [],
   "source": [
    "# Generate data\n",
    "start = torch.zeros((1, 1), dtype=torch.long, device=device)\n",
    "open('more.txt', 'w').write(tokenizer.decode(model.generate(start, max_new_tokens=10000)[0].tolist()))"
   ]
  }
 ],
 "metadata": {
  "kernelspec": {
   "display_name": "Python 3",
   "language": "python",
   "name": "python3"
  },
  "language_info": {
   "codemirror_mode": {
    "name": "ipython",
    "version": 3
   },
   "file_extension": ".py",
   "mimetype": "text/x-python",
   "name": "python",
   "nbconvert_exporter": "python",
   "pygments_lexer": "ipython3",
   "version": "3.10.6"
  },
  "orig_nbformat": 4
 },
 "nbformat": 4,
 "nbformat_minor": 2
}
